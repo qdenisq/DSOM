{
 "cells": [
  {
   "cell_type": "markdown",
   "metadata": {
    "collapsed": true
   },
   "source": [
    "# Analysis of the SOM with CNN"
   ]
  },
  {
   "cell_type": "code",
   "execution_count": 1,
   "metadata": {},
   "outputs": [
    {
     "name": "stderr",
     "output_type": "stream",
     "text": [
      "C:\\ProgramData\\Anaconda3\\lib\\site-packages\\h5py\\__init__.py:34: FutureWarning: Conversion of the second argument of issubdtype from `float` to `np.floating` is deprecated. In future, it will be treated as `np.float64 == np.dtype(float).type`.\n",
      "  from ._conv import register_converters as _register_converters\n"
     ]
    }
   ],
   "source": [
    "from __future__ import print_function\n",
    "\n",
    "import tensorflow as tf\n",
    "from tensorflow.python.tools import inspect_checkpoint as chkp\n",
    "from tensorflow.python.platform import gfile\n",
    "from tensorflow.contrib.framework.python.ops import audio_ops as contrib_audio\n",
    "# boilerplate code\n",
    "\n",
    "import os\n",
    "from io import BytesIO\n",
    "import numpy as np\n",
    "import random\n",
    "from functools import partial\n",
    "import PIL.Image\n",
    "from IPython.display import clear_output, Image, display, HTML\n",
    "import matplotlib.pyplot as plt\n",
    "\n",
    "\n",
    "from mpl_toolkits.mplot3d import Axes3D\n",
    "import somoclu\n",
    "import deep_som as ds\n",
    "import time\n",
    "import matplotlib.cm as cm\n",
    "from pathlib import Path\n",
    "import pprint, pickle\n",
    "\n",
    "import utils\n",
    "\n",
    "%matplotlib inline"
   ]
  },
  {
   "cell_type": "markdown",
   "metadata": {},
   "source": [
    "## 1 - Load CNN"
   ]
  },
  {
   "cell_type": "code",
   "execution_count": 2,
   "metadata": {},
   "outputs": [],
   "source": [
    "cnn_directory = r\"C:\\tmp\\speech_commands_train\"\n",
    "checkpoint_name = \"conv.ckpt-18000\"\n",
    "graph_name = \"conv.pbtxt\"\n",
    "tensor_name=\"MatMul\"\n",
    "som_directory = \"\""
   ]
  },
  {
   "cell_type": "code",
   "execution_count": 3,
   "metadata": {},
   "outputs": [
    {
     "name": "stdout",
     "output_type": "stream",
     "text": [
      "INFO:tensorflow:Restoring parameters from C:\\tmp\\speech_commands_train\\conv.ckpt-18000\n"
     ]
    }
   ],
   "source": [
    "sess = utils.load_speech_command_cnn(cnn_directory, checkpoint_name)\n",
    "ms = utils.init_cnn_model_settings()\n",
    "output_tensor = utils.restore_tensor(tensor_name)\n",
    "mfcc_tensor_flatten, mfcc_tensor = utils.build_preproc_graph_for_cnn()"
   ]
  },
  {
   "cell_type": "code",
   "execution_count": 4,
   "metadata": {},
   "outputs": [
    {
     "data": {
      "image/png": "[encoded data removed]",
      "text/plain": [
       "<matplotlib.figure.Figure at 0x32f61ba8>"
      ]
     },
     "metadata": {},
     "output_type": "display_data"
    }
   ],
   "source": [
    "wav_fname = r\"C:\\tmp\\speech_dataset\\dog\\00f0204f_nohash_1.wav\"\n",
    "mfcc = sess.run(mfcc_tensor, feed_dict={\"wav_data:0\": wav_fname})\n",
    "plt.imshow(mfcc.T.squeeze(), origin='lower', cmap='gray')\n",
    "plt.show()"
   ]
  },
  {
   "cell_type": "markdown",
   "metadata": {},
   "source": [
    "## 2 - Load training set"
   ]
  },
  {
   "cell_type": "code",
   "execution_count": 5,
   "metadata": {},
   "outputs": [],
   "source": [
    "with open('cnn_200_training.pickle', 'rb') as f:\n",
    "    train = pickle.load(f)\n",
    "train_x = train[\"input\"]\n",
    "train_y = train[\"out\"]"
   ]
  },
  {
   "cell_type": "code",
   "execution_count": null,
   "metadata": {},
   "outputs": [],
   "source": []
  },
  {
   "cell_type": "code",
   "execution_count": null,
   "metadata": {
    "collapsed": true
   },
   "outputs": [],
   "source": []
  }
 ],
 "metadata": {
  "kernelspec": {
   "display_name": "Python 3",
   "language": "python",
   "name": "python3"
  },
  "language_info": {
   "codemirror_mode": {
    "name": "ipython",
    "version": 3
   },
   "file_extension": ".py",
   "mimetype": "text/x-python",
   "name": "python",
   "nbconvert_exporter": "python",
   "pygments_lexer": "ipython3",
   "version": "3.6.3"
  }
 },
 "nbformat": 4,
 "nbformat_minor": 2
}
